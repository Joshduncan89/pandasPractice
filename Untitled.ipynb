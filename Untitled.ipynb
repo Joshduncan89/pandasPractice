{
 "cells": [
  {
   "cell_type": "code",
   "execution_count": 88,
   "id": "8c5ec6ff-a77c-4967-b94e-dd7013850877",
   "metadata": {},
   "outputs": [],
   "source": [
    "from googleapiclient.discovery import build\n",
    "from dateutil import parser\n",
    "import pandas as pd\n",
    "from IPython.display import JSON\n",
    "import seaborn as sns\n",
    "import matplotlib.pyplot as plt\n",
    "import matplotlib.ticker as ticker\n",
    "import nltk\n",
    "from nltk.corpus import stopwords\n",
    "from nltk.tokenize import word_tokenize"
   ]
  },
  {
   "cell_type": "code",
   "execution_count": 89,
   "id": "569e66c3-bf35-4dca-913b-7ce45ecf52e7",
   "metadata": {},
   "outputs": [],
   "source": [
    "channel_ids = ['UC7cs8q-gJRlGwj4A8OmCmXg']"
   ]
  },
  {
   "cell_type": "code",
   "execution_count": 90,
   "id": "a1a21a01-d87b-4619-91ac-e0815bb67f62",
   "metadata": {},
   "outputs": [],
   "source": [
    "api_service_name = \"youtube\"\n",
    "api_version = \"v3\"\n",
    "# Get credentials and create an API client\n",
    "youtube = build(\n",
    "        api_service_name, api_version, developerKey=api_key)\n",
    "\n",
    "def get_channel_stats(youtube,channel_ids):\n",
    "    \n",
    "    all_data = []\n",
    "\n",
    "    request = youtube.channels().list(\n",
    "        part=\"snippet,contentDetails,statistics\",\n",
    "        id=\",\".join(channel_ids)\n",
    "    )\n",
    "    response = request.execute()\n",
    "    \n",
    "    for item in response[\"items\"]:\n",
    "        data = {'channelName': item['snippet']['title'],\n",
    "                'subscribers':item['statistics']['subscriberCount'],\n",
    "                'views':item['statistics']['viewCount'],\n",
    "                'totalVideos':item['statistics']['videoCount'],\n",
    "                'playlistId':item['contentDetails']['relatedPlaylists']['uploads']\n",
    "               }\n",
    "        all_data.append(data)\n",
    "        \n",
    "        return(pd.DataFrame(all_data))"
   ]
  },
  {
   "cell_type": "code",
   "execution_count": 91,
   "id": "100cf64c-05f1-4a6a-8f2e-77e1729faf94",
   "metadata": {},
   "outputs": [],
   "source": [
    "channel_stats = get_channel_stats(youtube,channel_ids)"
   ]
  },
  {
   "cell_type": "code",
   "execution_count": 92,
   "id": "43fb8b91-9268-44ed-bf33-68f0bc18ccc8",
   "metadata": {},
   "outputs": [
    {
     "data": {
      "text/html": [
       "<div>\n",
       "<style scoped>\n",
       "    .dataframe tbody tr th:only-of-type {\n",
       "        vertical-align: middle;\n",
       "    }\n",
       "\n",
       "    .dataframe tbody tr th {\n",
       "        vertical-align: top;\n",
       "    }\n",
       "\n",
       "    .dataframe thead th {\n",
       "        text-align: right;\n",
       "    }\n",
       "</style>\n",
       "<table border=\"1\" class=\"dataframe\">\n",
       "  <thead>\n",
       "    <tr style=\"text-align: right;\">\n",
       "      <th></th>\n",
       "      <th>channelName</th>\n",
       "      <th>subscribers</th>\n",
       "      <th>views</th>\n",
       "      <th>totalVideos</th>\n",
       "      <th>playlistId</th>\n",
       "    </tr>\n",
       "  </thead>\n",
       "  <tbody>\n",
       "    <tr>\n",
       "      <th>0</th>\n",
       "      <td>Alex The Analyst</td>\n",
       "      <td>232000</td>\n",
       "      <td>9155341</td>\n",
       "      <td>147</td>\n",
       "      <td>UU7cs8q-gJRlGwj4A8OmCmXg</td>\n",
       "    </tr>\n",
       "  </tbody>\n",
       "</table>\n",
       "</div>"
      ],
      "text/plain": [
       "        channelName subscribers    views totalVideos                playlistId\n",
       "0  Alex The Analyst      232000  9155341         147  UU7cs8q-gJRlGwj4A8OmCmXg"
      ]
     },
     "execution_count": 92,
     "metadata": {},
     "output_type": "execute_result"
    }
   ],
   "source": [
    "channel_stats"
   ]
  },
  {
   "cell_type": "code",
   "execution_count": 93,
   "id": "d58d1233-89dd-44b5-a25c-448db1f67fb2",
   "metadata": {},
   "outputs": [],
   "source": [
    "playlist_id = \"UU7cs8q-gJRlGwj4A8OmCmXg\"\n",
    "\n",
    "def get_video_ids(youtube,playlist_id):\n",
    "    \n",
    "    video_ids = []\n",
    "    \n",
    "    request = youtube.playlistItems().list(\n",
    "        part=\"snippet,contentDetails\",\n",
    "        playlistId=playlist_id\n",
    "    )\n",
    "    response = request.execute()\n",
    "    \n",
    "    for item in response['items']:\n",
    "        video_ids.append(item['contentDetails']['videoId'])\n",
    "\n",
    "    return(video_ids)"
   ]
  },
  {
   "cell_type": "code",
   "execution_count": 94,
   "id": "2c9f9170-3baa-4774-aa0b-4bb6c95071eb",
   "metadata": {},
   "outputs": [],
   "source": [
    "video_ids = get_video_ids(youtube,playlist_id)"
   ]
  },
  {
   "cell_type": "code",
   "execution_count": 95,
   "id": "0366bdff-7fa6-493d-9c0e-7ef1dc7c340a",
   "metadata": {},
   "outputs": [
    {
     "data": {
      "text/plain": [
       "['KB2CtEDrglY', '2HfSFdPEFRg', 'g0m5sEHPU-s', 'Q7i6zxHVj2Q', 'ddn-2r1j_OU']"
      ]
     },
     "execution_count": 95,
     "metadata": {},
     "output_type": "execute_result"
    }
   ],
   "source": [
    "video_ids"
   ]
  },
  {
   "cell_type": "code",
   "execution_count": 96,
   "id": "77e4b4a4-0e2f-4a10-a6b2-6dcb7d7f132d",
   "metadata": {},
   "outputs": [],
   "source": [
    "def get_video_details(youtube,video_ids):\n",
    "\n",
    "    all_video_info = []\n",
    "\n",
    "    request = youtube.videos().list(\n",
    "        part=\"snippet,contentDetails,statistics\",\n",
    "        id=video_ids[0:5]\n",
    "    )\n",
    "    response = request.execute()\n",
    "    \n",
    "    for video in response['items']:\n",
    "        stats_to_keep = {'snippet': ['channelTitle','title','description','tags','publishedAt'],\n",
    "                     'statistics': ['viewCount','likeCount','favouriteCount','commentCount'],\n",
    "                     'contentDetails':['duration','definition', 'caption']\n",
    "                    }\n",
    "        videoInfo = {}\n",
    "        videoInfo['videoId'] = video['id']\n",
    "    \n",
    "        for k in stats_to_keep.keys():\n",
    "            for v in stats_to_keep[k]:\n",
    "                try:\n",
    "                    videoInfo[v]=video[k][v]\n",
    "                except:\n",
    "                    videoInfo[v] = None\n",
    "\n",
    "        all_video_info.append(videoInfo)\n",
    "    \n",
    "    return pd.DataFrame(all_video_info)"
   ]
  },
  {
   "cell_type": "code",
   "execution_count": 97,
   "id": "1a1e6a91-e8f0-4d6a-af3b-5fe6d547df03",
   "metadata": {},
   "outputs": [
    {
     "data": {
      "text/html": [
       "<div>\n",
       "<style scoped>\n",
       "    .dataframe tbody tr th:only-of-type {\n",
       "        vertical-align: middle;\n",
       "    }\n",
       "\n",
       "    .dataframe tbody tr th {\n",
       "        vertical-align: top;\n",
       "    }\n",
       "\n",
       "    .dataframe thead th {\n",
       "        text-align: right;\n",
       "    }\n",
       "</style>\n",
       "<table border=\"1\" class=\"dataframe\">\n",
       "  <thead>\n",
       "    <tr style=\"text-align: right;\">\n",
       "      <th></th>\n",
       "      <th>videoId</th>\n",
       "      <th>channelTitle</th>\n",
       "      <th>title</th>\n",
       "      <th>description</th>\n",
       "      <th>tags</th>\n",
       "      <th>publishedAt</th>\n",
       "      <th>viewCount</th>\n",
       "      <th>likeCount</th>\n",
       "      <th>favouriteCount</th>\n",
       "      <th>commentCount</th>\n",
       "      <th>duration</th>\n",
       "      <th>definition</th>\n",
       "      <th>caption</th>\n",
       "    </tr>\n",
       "  </thead>\n",
       "  <tbody>\n",
       "    <tr>\n",
       "      <th>0</th>\n",
       "      <td>KB2CtEDrglY</td>\n",
       "      <td>Alex The Analyst</td>\n",
       "      <td>Automating Crypto Website API Pull Using Pytho...</td>\n",
       "      <td>In this project we look at automating this API...</td>\n",
       "      <td>[Data Analyst, Data Analyst job, Data Analyst ...</td>\n",
       "      <td>2022-06-07T10:30:10Z</td>\n",
       "      <td>6285</td>\n",
       "      <td>264</td>\n",
       "      <td>None</td>\n",
       "      <td>27</td>\n",
       "      <td>PT51M14S</td>\n",
       "      <td>hd</td>\n",
       "      <td>true</td>\n",
       "    </tr>\n",
       "    <tr>\n",
       "      <th>1</th>\n",
       "      <td>2HfSFdPEFRg</td>\n",
       "      <td>Alex The Analyst</td>\n",
       "      <td>How to use a Public API | Using a Public API w...</td>\n",
       "      <td>APIs are extremely useful to know how to use. ...</td>\n",
       "      <td>[Data Analyst, Data Analyst job, Data Analyst ...</td>\n",
       "      <td>2022-05-31T10:30:01Z</td>\n",
       "      <td>7332</td>\n",
       "      <td>401</td>\n",
       "      <td>None</td>\n",
       "      <td>46</td>\n",
       "      <td>PT14M1S</td>\n",
       "      <td>hd</td>\n",
       "      <td>false</td>\n",
       "    </tr>\n",
       "    <tr>\n",
       "      <th>2</th>\n",
       "      <td>g0m5sEHPU-s</td>\n",
       "      <td>Alex The Analyst</td>\n",
       "      <td>How to Install Power BI | Building First Visua...</td>\n",
       "      <td>In this series we will be walking through the ...</td>\n",
       "      <td>[Data Analyst, Data Analyst job, Data Analyst ...</td>\n",
       "      <td>2022-05-24T10:30:06Z</td>\n",
       "      <td>14267</td>\n",
       "      <td>659</td>\n",
       "      <td>None</td>\n",
       "      <td>88</td>\n",
       "      <td>PT12M50S</td>\n",
       "      <td>hd</td>\n",
       "      <td>false</td>\n",
       "    </tr>\n",
       "    <tr>\n",
       "      <th>3</th>\n",
       "      <td>Q7i6zxHVj2Q</td>\n",
       "      <td>Alex The Analyst</td>\n",
       "      <td>MySQL vs Postgresql vs Microsoft SQL Server Ma...</td>\n",
       "      <td>There are a lot of different SQL Management To...</td>\n",
       "      <td>[Data Analyst job, Data Analyst Career, Data A...</td>\n",
       "      <td>2022-05-17T10:30:06Z</td>\n",
       "      <td>36034</td>\n",
       "      <td>900</td>\n",
       "      <td>None</td>\n",
       "      <td>183</td>\n",
       "      <td>PT16M5S</td>\n",
       "      <td>hd</td>\n",
       "      <td>false</td>\n",
       "    </tr>\n",
       "    <tr>\n",
       "      <th>4</th>\n",
       "      <td>ddn-2r1j_OU</td>\n",
       "      <td>Alex The Analyst</td>\n",
       "      <td>Top 3 Tips to Stop Procrastinating to be Succe...</td>\n",
       "      <td>Procrastination is something that I think we a...</td>\n",
       "      <td>[Data Analyst, Data Analyst job, Data Analyst ...</td>\n",
       "      <td>2022-05-10T10:30:05Z</td>\n",
       "      <td>24992</td>\n",
       "      <td>1315</td>\n",
       "      <td>None</td>\n",
       "      <td>139</td>\n",
       "      <td>PT6M40S</td>\n",
       "      <td>hd</td>\n",
       "      <td>false</td>\n",
       "    </tr>\n",
       "  </tbody>\n",
       "</table>\n",
       "</div>"
      ],
      "text/plain": [
       "       videoId      channelTitle  \\\n",
       "0  KB2CtEDrglY  Alex The Analyst   \n",
       "1  2HfSFdPEFRg  Alex The Analyst   \n",
       "2  g0m5sEHPU-s  Alex The Analyst   \n",
       "3  Q7i6zxHVj2Q  Alex The Analyst   \n",
       "4  ddn-2r1j_OU  Alex The Analyst   \n",
       "\n",
       "                                               title  \\\n",
       "0  Automating Crypto Website API Pull Using Pytho...   \n",
       "1  How to use a Public API | Using a Public API w...   \n",
       "2  How to Install Power BI | Building First Visua...   \n",
       "3  MySQL vs Postgresql vs Microsoft SQL Server Ma...   \n",
       "4  Top 3 Tips to Stop Procrastinating to be Succe...   \n",
       "\n",
       "                                         description  \\\n",
       "0  In this project we look at automating this API...   \n",
       "1  APIs are extremely useful to know how to use. ...   \n",
       "2  In this series we will be walking through the ...   \n",
       "3  There are a lot of different SQL Management To...   \n",
       "4  Procrastination is something that I think we a...   \n",
       "\n",
       "                                                tags           publishedAt  \\\n",
       "0  [Data Analyst, Data Analyst job, Data Analyst ...  2022-06-07T10:30:10Z   \n",
       "1  [Data Analyst, Data Analyst job, Data Analyst ...  2022-05-31T10:30:01Z   \n",
       "2  [Data Analyst, Data Analyst job, Data Analyst ...  2022-05-24T10:30:06Z   \n",
       "3  [Data Analyst job, Data Analyst Career, Data A...  2022-05-17T10:30:06Z   \n",
       "4  [Data Analyst, Data Analyst job, Data Analyst ...  2022-05-10T10:30:05Z   \n",
       "\n",
       "  viewCount likeCount favouriteCount commentCount  duration definition caption  \n",
       "0      6285       264           None           27  PT51M14S         hd    true  \n",
       "1      7332       401           None           46   PT14M1S         hd   false  \n",
       "2     14267       659           None           88  PT12M50S         hd   false  \n",
       "3     36034       900           None          183   PT16M5S         hd   false  \n",
       "4     24992      1315           None          139   PT6M40S         hd   false  "
      ]
     },
     "execution_count": 97,
     "metadata": {},
     "output_type": "execute_result"
    }
   ],
   "source": [
    "video_df = get_video_details(youtube,video_ids)\n",
    "video_df"
   ]
  },
  {
   "cell_type": "code",
   "execution_count": 98,
   "id": "d7220731-7117-4840-9b72-3b9edcb3bee4",
   "metadata": {},
   "outputs": [
    {
     "data": {
      "text/plain": [
       "videoId           False\n",
       "channelTitle      False\n",
       "title             False\n",
       "description       False\n",
       "tags              False\n",
       "publishedAt       False\n",
       "viewCount         False\n",
       "likeCount         False\n",
       "favouriteCount     True\n",
       "commentCount      False\n",
       "duration          False\n",
       "definition        False\n",
       "caption           False\n",
       "dtype: bool"
      ]
     },
     "execution_count": 98,
     "metadata": {},
     "output_type": "execute_result"
    }
   ],
   "source": [
    "video_df.isnull().any()"
   ]
  },
  {
   "cell_type": "code",
   "execution_count": 99,
   "id": "f4231f5e-0b1c-456f-99fa-1e48ffd37573",
   "metadata": {},
   "outputs": [],
   "source": [
    "numeric_cols = ['viewCount','favouriteCount','commentCount','likeCount']\n",
    "video_df[numeric_cols] = video_df[numeric_cols].apply(pd.to_numeric,errors='coerce',axis=1)"
   ]
  },
  {
   "cell_type": "code",
   "execution_count": 100,
   "id": "2ddbfd50-6ec7-4aa8-873f-ab2c647a4578",
   "metadata": {},
   "outputs": [],
   "source": [
    "video_df['publishedAt'] = video_df['publishedAt'].apply(lambda x: parser.parse(x)) \n",
    "video_df['publishDayName'] = video_df['publishedAt'].apply(lambda x: x.strftime(\"%A\")) "
   ]
  },
  {
   "cell_type": "code",
   "execution_count": 101,
   "id": "fc4d717e-8546-4585-88e8-e9922019367b",
   "metadata": {},
   "outputs": [],
   "source": [
    "import isodate\n",
    "video_df['durationSecs'] = video_df['duration'].apply(lambda x: isodate.parse_duration(x))\n",
    "video_df['durationSecs'] = video_df['durationSecs'].astype('timedelta64[s]')"
   ]
  },
  {
   "cell_type": "code",
   "execution_count": 102,
   "id": "76ed91c3-2247-4852-9845-c59713b4e797",
   "metadata": {},
   "outputs": [
    {
     "data": {
      "image/png": "[encoded data removed]",
      "text/plain": [
       "<Figure size 432x288 with 1 Axes>"
      ]
     },
     "metadata": {
      "needs_background": "light"
     },
     "output_type": "display_data"
    }
   ],
   "source": [
    "ax = sns.barplot(x = 'title', y = 'viewCount', data = video_df.sort_values('viewCount', ascending=False)[0:5])\n",
    "plot = ax.set_xticklabels(ax.get_xticklabels(), rotation=90)\n",
    "ax.yaxis.set_major_formatter(ticker.FuncFormatter(lambda x, pos:'{:,.0f}'.format(x/1000) + 'K'))"
   ]
  },
  {
   "cell_type": "code",
   "execution_count": 105,
   "id": "dde8c8fa-801c-4e24-9981-a458fa5b577b",
   "metadata": {},
   "outputs": [
    {
     "name": "stderr",
     "output_type": "stream",
     "text": [
      "C:\\Users\\13135\\AppData\\Local\\Programs\\Python\\Python310\\lib\\site-packages\\seaborn\\_decorators.py:36: FutureWarning: Pass the following variables as keyword args: x, y. From version 0.12, the only valid positional argument will be `data`, and passing other arguments without an explicit keyword will result in an error or misinterpretation.\n",
      "  warnings.warn(\n"
     ]
    },
    {
     "data": {
      "text/plain": [
       "<AxesSubplot:xlabel='channelTitle', ylabel='viewCount'>"
      ]
     },
     "execution_count": 105,
     "metadata": {},
     "output_type": "execute_result"
    },
    {
     "data": {
      "image/png": "[encoded data removed]",
      "text/plain": [
       "<Figure size 432x288 with 1 Axes>"
      ]
     },
     "metadata": {
      "needs_background": "light"
     },
     "output_type": "display_data"
    }
   ],
   "source": [
    "sns.violinplot(video_df['channelTitle'], video_df['viewCount'])"
   ]
  },
  {
   "cell_type": "code",
   "execution_count": 104,
   "id": "e6bce265-345f-4a99-94bd-34d01d11afa2",
   "metadata": {},
   "outputs": [
    {
     "data": {
      "text/plain": [
       "<AxesSubplot:xlabel='likeCount', ylabel='viewCount'>"
      ]
     },
     "execution_count": 104,
     "metadata": {},
     "output_type": "execute_result"
    },
    {
     "data": {
      "image/png": "[encoded data removed]",
      "text/plain": [
       "<Figure size 432x288 with 2 Axes>"
      ]
     },
     "metadata": {
      "needs_background": "light"
     },
     "output_type": "display_data"
    }
   ],
   "source": [
    "fig, ax = plt.subplots(1,2)\n",
    "sns.scatterplot(data = video_df, x = 'commentCount', y = 'viewCount', ax = ax[0])\n",
    "sns.scatterplot(data = video_df, x = 'likeCount', y = 'viewCount', ax = ax[1])"
   ]
  },
  {
   "cell_type": "code",
   "execution_count": null,
   "id": "5c0d165d-01a3-4b71-9f5b-2e8cd512d618",
   "metadata": {},
   "outputs": [],
   "source": []
  }
 ],
 "metadata": {
  "kernelspec": {
   "display_name": "Python 3 (ipykernel)",
   "language": "python",
   "name": "python3"
  },
  "language_info": {
   "codemirror_mode": {
    "name": "ipython",
    "version": 3
   },
   "file_extension": ".py",
   "mimetype": "text/x-python",
   "name": "python",
   "nbconvert_exporter": "python",
   "pygments_lexer": "ipython3",
   "version": "3.10.5"
  }
 },
 "nbformat": 4,
 "nbformat_minor": 5
}
